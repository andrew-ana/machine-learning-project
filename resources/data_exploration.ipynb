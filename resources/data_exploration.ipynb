{
 "cells": [
  {
   "cell_type": "code",
   "execution_count": 3,
   "id": "2381849f",
   "metadata": {},
   "outputs": [],
   "source": [
    "import pandas as pd"
   ]
  },
  {
   "cell_type": "code",
   "execution_count": 9,
   "id": "a49d33c3",
   "metadata": {},
   "outputs": [
    {
     "name": "stdout",
     "output_type": "stream",
     "text": [
      "['ontime.td.202009.asc', 'ontime.td.202008.asc', 'ontime.td.202012.asc', 'ontime.td.202011.asc', 'ontime.td.202010.asc', 'ontime.td.202105.asc', 'ontime.td.202104.asc', 'ontime.td.202103.asc', 'ontime.td.202102.asc', 'ontime.td.202101.asc']\n"
     ]
    }
   ],
   "source": [
    "import os\n",
    "raw_files = os.listdir('raw_asc')\n",
    "print(raw_files)"
   ]
  },
  {
   "cell_type": "code",
   "execution_count": null,
   "id": "4a19aaf6",
   "metadata": {},
   "outputs": [
    {
     "name": "stdout",
     "output_type": "stream",
     "text": [
      "   0     1    2   3   4     5    6    7         8   9   ...  61  62  63  64  \\\n",
      "0  DL  4628  NaN NaN  9E  4628  TVC  DTW  20200908   2  ...   0 NaN NaN   0   \n",
      "1  DL  4628  NaN NaN  9E  4628  TVC  DTW  20200909   3  ...   0 NaN NaN   0   \n",
      "2  DL  4628  NaN NaN  9E  4628  TVC  DTW  20200910   4  ...   0 NaN NaN   0   \n",
      "3  DL  4628  NaN NaN  9E  4628  TVC  DTW  20200911   5  ...   0 NaN NaN   0   \n",
      "4  DL  4628  NaN NaN  9E  4628  TVC  DTW  20200912   6  ...   0 NaN NaN   0   \n",
      "\n",
      "   65  66  67  68      69  70  \n",
      "0   0   0   0 NaN  FORM-1   N  \n",
      "1   0   0   0 NaN  FORM-1   N  \n",
      "2   0   0   0 NaN  FORM-1   N  \n",
      "3   0   0   0 NaN  FORM-1   N  \n",
      "4   0   0   0 NaN  FORM-1   N  \n",
      "\n",
      "[5 rows x 71 columns]\n",
      "   0     1    2   3   4     5    6    7         8   9   ...  61  62  63  64  \\\n",
      "0  DL  4628  NaN NaN  9E  4628  CAE  ATL  20200801   6  ...   0 NaN NaN   0   \n",
      "1  DL  4629  NaN NaN  9E  4629  DTW  DSM  20200801   6  ...   0 NaN NaN   0   \n",
      "2  DL  4629  NaN NaN  9E  4629  DTW  DSM  20200802   7  ...   0 NaN NaN   0   \n",
      "3  DL  4629  NaN NaN  9E  4629  DTW  DSM  20200803   1  ...   0 NaN NaN   0   \n",
      "4  DL  4629  NaN NaN  9E  4629  DTW  DSM  20200804   2  ...   0 NaN NaN   0   \n",
      "\n",
      "   65  66  67  68      69  70  \n",
      "0   0   0   0 NaN  FORM-1   N  \n",
      "1   0   0   0 NaN  FORM-1   N  \n",
      "2   0   0   0 NaN  FORM-1   N  \n",
      "3   0   0   0 NaN  FORM-1   N  \n",
      "4   0   0   0 NaN  FORM-1   N  \n",
      "\n",
      "[5 rows x 71 columns]\n",
      "   0     1    2   3   4     5    6    7         8   9   ...  61  62  63  64  \\\n",
      "0  DL  4628  NaN NaN  9E  4628  CVG  BOS  20201201   2  ...   0 NaN NaN   0   \n",
      "1  DL  4628  NaN NaN  9E  4628  CVG  BOS  20201203   4  ...   0 NaN NaN   0   \n",
      "2  DL  4628  NaN NaN  9E  4628  CVG  BOS  20201204   5  ...   0 NaN NaN   0   \n",
      "3  DL  4628  NaN NaN  9E  4628  CVG  BOS  20201206   7  ...   0 NaN NaN   0   \n",
      "4  DL  4628  NaN NaN  9E  4628  CVG  BOS  20201207   1  ...   0 NaN NaN   0   \n",
      "\n",
      "   65  66  67  68      69  70  \n",
      "0   0   0   0 NaN  FORM-1   N  \n",
      "1   0   0   0 NaN  FORM-1   N  \n",
      "2   0   0   0 NaN  FORM-1   N  \n",
      "3   0   0   0 NaN  FORM-1   N  \n",
      "4   0   0   0 NaN  FORM-1   N  \n",
      "\n",
      "[5 rows x 71 columns]\n",
      "   0     1    2   3   4     5    6    7         8   9   ...  61  62  63  64  \\\n",
      "0  DL  4628  NaN NaN  9E  4628  BDL  DTW  20201126   4  ...   0 NaN NaN   0   \n",
      "1  DL  4628  NaN NaN  9E  4628  CVG  BOS  20201108   7  ...   0 NaN NaN   0   \n",
      "2  DL  4628  NaN NaN  9E  4628  CVG  BOS  20201109   1  ...   0 NaN NaN   0   \n",
      "3  DL  4628  NaN NaN  9E  4628  CVG  BOS  20201112   4  ...   0 NaN NaN   0   \n",
      "4  DL  4628  NaN NaN  9E  4628  CVG  BOS  20201113   5  ...   0 NaN NaN   0   \n",
      "\n",
      "   65  66  67  68      69  70  \n",
      "0   0   0   0 NaN  FORM-1   N  \n",
      "1   0   0   0 NaN  FORM-1   N  \n",
      "2   0   0   0 NaN  FORM-1   N  \n",
      "3   0   0   0 NaN  FORM-1   N  \n",
      "4   0   0   0 NaN  FORM-1   N  \n",
      "\n",
      "[5 rows x 71 columns]\n",
      "   0     1    2   3   4     5    6    7         8   9   ...  61  62  63  64  \\\n",
      "0  DL  4628  NaN NaN  9E  4628  BOS  CVG  20201001   4  ...   0 NaN NaN   0   \n",
      "1  DL  4628  NaN NaN  9E  4628  BOS  CVG  20201002   5  ...   0 NaN NaN   0   \n",
      "2  DL  4628  NaN NaN  9E  4628  BOS  CVG  20201004   7  ...   0 NaN NaN   0   \n",
      "3  DL  4628  NaN NaN  9E  4628  BOS  CVG  20201005   1  ...   0 NaN NaN   0   \n",
      "4  DL  4628  NaN NaN  9E  4628  BOS  CVG  20201008   4  ...   0 NaN NaN   0   \n",
      "\n",
      "   65  66  67  68      69  70  \n",
      "0   0   0   0 NaN  FORM-1   N  \n",
      "1   0   0   0 NaN  FORM-1   N  \n",
      "2   0   0   0 NaN  FORM-1   N  \n",
      "3   0   0   0 NaN  FORM-1   N  \n",
      "4   0   0   0 NaN  FORM-1   N  \n",
      "\n",
      "[5 rows x 71 columns]\n",
      "   0     1   2       3   4     5    6    7         8   9   ...  61  62  63  \\\n",
      "0  DL  4086  OO  4086.0  9E  5542  DTW  BNA  20210514   5  ...   0 NaN NaN   \n",
      "1  DL  3711  OO  3711.0  9E  5539  MSP  GRR  20210513   4  ...   0 NaN NaN   \n",
      "2  DL  5821  YX  5821.0  9E  5542  LGA  DCA  20210502   7  ...   0 NaN NaN   \n",
      "3  DL  5806  YX  5806.0  9E  5543  DCA  LGA  20210502   7  ...   0 NaN NaN   \n",
      "4  DL  5823  YX  5823.0  9E  5546  CLT  DTW  20210502   7  ...   0 NaN NaN   \n",
      "\n",
      "   64  65  66  67  68       69  70  \n",
      "0   0   0   0   0 NaN  FORM-3A   N  \n",
      "1   0   0   0   0 NaN  FORM-3A   N  \n",
      "2   0   0   0   0 NaN  FORM-3A   N  \n",
      "3   0   0   0   0 NaN  FORM-3A   N  \n",
      "4   0   0   0   0 NaN  FORM-3A   N  \n",
      "\n",
      "[5 rows x 71 columns]\n",
      "   0     1    2       3   4     5    6    7         8   9   ...  61  62  63  \\\n",
      "0  DL  5811   YX  5811.0  9E  5538  MCI  LGA  20210405   1  ...   0 NaN NaN   \n",
      "1  DL  3744   OO  3744.0  9E  5539  DTW  MKE  20210401   4  ...   0 NaN NaN   \n",
      "2  DL  3675   OO  3675.0  9E  5540  MKE  DTW  20210401   4  ...   0 NaN NaN   \n",
      "3  DL  4628  NaN     NaN  9E  4628  ATL  HSV  20210401   4  ...   0 NaN NaN   \n",
      "4  DL  4628  NaN     NaN  9E  4628  ATL  HSV  20210402   5  ...   0 NaN NaN   \n",
      "\n",
      "   64  65  66  67  68       69  70  \n",
      "0   0   0   0   0 NaN  FORM-3A   N  \n",
      "1   0   0   0   0 NaN  FORM-3A   N  \n",
      "2   0   0   0   0 NaN  FORM-3A   N  \n",
      "3   0   0   0   0 NaN   FORM-1   N  \n",
      "4   0   0   0   0 NaN   FORM-1   N  \n",
      "\n",
      "[5 rows x 71 columns]\n"
     ]
    }
   ],
   "source": [
    "for fn in raw_files:\n",
    "    airline = pd.read_table('raw_asc/'+ fn, delimiter = \"|\", header = None, low_memory = False)\n",
    "    print(airline.head())"
   ]
  },
  {
   "cell_type": "code",
   "execution_count": null,
   "id": "00b77630",
   "metadata": {},
   "outputs": [],
   "source": []
  }
 ],
 "metadata": {
  "kernelspec": {
   "display_name": "Python [conda env:PythonData] *",
   "language": "python",
   "name": "conda-env-PythonData-py"
  },
  "language_info": {
   "codemirror_mode": {
    "name": "ipython",
    "version": 3
   },
   "file_extension": ".py",
   "mimetype": "text/x-python",
   "name": "python",
   "nbconvert_exporter": "python",
   "pygments_lexer": "ipython3",
   "version": "3.6.10"
  }
 },
 "nbformat": 4,
 "nbformat_minor": 5
}
