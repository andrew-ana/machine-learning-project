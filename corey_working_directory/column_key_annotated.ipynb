{
 "cells": [
  {
   "cell_type": "markdown",
   "id": "57367a05",
   "metadata": {},
   "source": [
    "# Features"
   ]
  },
  {
   "cell_type": "markdown",
   "id": "5ec8a6b9",
   "metadata": {},
   "source": [
    "*indicates columns that will need to be dropped for the analysis, but could be potentially retained for exploratory analyses.\n",
    "\n",
    "A1(0): Marketing carrier code<br>\n",
    "abbreviation: \"carrier_code\"\n",
    "\n",
    "B1(1): Flight number<r>\n",
    "abbreviation: \"flight_number\"\n",
    "\n",
    "A2(2): drop (scheduled operating carrier code)\n",
    "\n",
    "B2(3): drop (scheduled operating carrier flight number)\n",
    "\n",
    "A3(4): drop (actual operating carrier code)\n",
    "\n",
    "B3(5): drop(actual operating carrier flight number)\n",
    "\n",
    "C(6): Departure airport code<br>\n",
    "abbreviation: \"departure_airport_code\"\n",
    "\n",
    "D(7): drop* (arrival airport code)\n",
    "\n",
    "E(8): Date of flight (in ccyymmdd)<br>\n",
    "abbreviation: \"month\"<br>\n",
    "notes: will convert to month as str (\"jan\", \"feb\", \"mar\", ...) as str/object\n",
    "\n",
    "F(9): Day of the week (1-7)<br>\n",
    "abbreviation: \"day_of_week\"<br>\n",
    "notes: will convert to str (\"mon\", \"tue\", \"wed\", \"thu\", \"fri\", \"sat\", \"sun\")\n",
    "\n",
    "G(10): drop (scheduled departure time: OAG)\n",
    "\n",
    "H(11): drop (schedule departure time: CRS)\n",
    "\n",
    "I(12): drop (gate departure time (actual)\n",
    "\n",
    "J(13): drop (scheduled arrival time: OAG)\n",
    "\n",
    "K(14): drop (scheduled arrival time: CRS)\n",
    "\n",
    "L(15): drop (gate arrival time actual)\n",
    "\n",
    "M(16): drop (difference between OAG and CRS schedule departure times)\n",
    "\n",
    "N(17): drop (difference between OAG and CRS schedule arrival times)\n",
    "\n",
    "O(18): drop (scheduled elapsed time per CRS (?))\n",
    "\n",
    "P(19): drop (actual gate to gate time)\n",
    "\n",
    "Q(20): drop* (depature delay time)\n",
    "\n",
    "R(21): Arrival delay time<br>\n",
    "abbreviation: arrival_delay_time\n",
    "\n",
    "S(22): drop (elapsed time difference; note: note sure what this is exactly)\n",
    "\n",
    "T(23): drop (wheels off time)\n",
    "\n",
    "U(24): drop (wheels on time)\n",
    "\n",
    "V(25): Aircraft tail number<br>\n",
    "abbreviation: \"tail_number\"<br>\n",
    "notes: might be interesting as a predictor but could be unwieldy (since there are so many planes)\n",
    "\n",
    "## Note that things seem to get confusing after this column.\n"
   ]
  },
  {
   "cell_type": "code",
   "execution_count": null,
   "id": "18381b47",
   "metadata": {},
   "outputs": [],
   "source": []
  }
 ],
 "metadata": {
  "kernelspec": {
   "display_name": "Python [conda env:PythonAdv] *",
   "language": "python",
   "name": "conda-env-PythonAdv-py"
  },
  "language_info": {
   "codemirror_mode": {
    "name": "ipython",
    "version": 3
   },
   "file_extension": ".py",
   "mimetype": "text/x-python",
   "name": "python",
   "nbconvert_exporter": "python",
   "pygments_lexer": "ipython3",
   "version": "3.6.13"
  }
 },
 "nbformat": 4,
 "nbformat_minor": 5
}
